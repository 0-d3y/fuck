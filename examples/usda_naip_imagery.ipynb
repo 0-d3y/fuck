{
 "cells": [
  {
   "cell_type": "code",
   "execution_count": 1,
   "metadata": {},
   "outputs": [],
   "source": [
    "import subprocess\n",
    "\n",
    "try:\n",
    "    import geemap\n",
    "except ImportError:\n",
    "    print('geemap package not installed. Installing ...')\n",
    "    subprocess.check_call([\"python\", '-m', 'pip', 'install', 'geemap'])\n",
    "    import geemap"
   ]
  },
  {
   "cell_type": "code",
   "execution_count": 2,
   "metadata": {},
   "outputs": [],
   "source": [
    "import ee\n",
    "\n",
    "try:\n",
    "    ee.Initialize()\n",
    "except Exception as e:\n",
    "    ee.Authenticate()\n",
    "    ee.Initialize()"
   ]
  },
  {
   "cell_type": "code",
   "execution_count": 15,
   "metadata": {},
   "outputs": [
    {
     "data": {
      "application/vnd.jupyter.widget-view+json": {
       "model_id": "1dae01cf60e340358881c1f752ddaf5f",
       "version_major": 2,
       "version_minor": 0
      },
      "text/plain": [
       "Map(center=[47.01, -99.0], controls=(ZoomControl(options=['position', 'zoom_in_text', 'zoom_in_title', 'zoom_o…"
      ]
     },
     "metadata": {},
     "output_type": "display_data"
    }
   ],
   "source": [
    "from ipyleaflet import *\n",
    "from ipywidgets import *\n",
    "from geemap.utilities import *\n",
    "Map = geemap.Map(layers=['Google Map'])\n",
    "Map.default_style = {'cursor': 'pointer'}\n",
    "Map\n",
    "\n",
    "# Load National Hydrography Dataset (NHD) \n",
    "HUC10 = ee.FeatureCollection('USGS/WBD/2017/HUC10');  # 18,487 HUC10 watersheds in the U.S.\n",
    "\n",
    "# Add HUC layer to the map\n",
    "Map.setCenter(-99.00, 47.01, 8);\n",
    "Map.addLayer(ee.Image().paint(HUC10, 0, 1), {}, 'HUC-10 Watershed')   # HUC10 for the entire U.S.\n",
    "\n",
    "label = Label(\"Click on the map to select a watershed\")\n",
    "widget_control = WidgetControl(widget=label, position='bottomright')\n",
    "Map.add_control(widget_control)\n",
    "\n",
    "layer = None\n",
    "\n",
    "def handle_interaction(**kwargs):\n",
    "    latlon = kwargs.get('coordinates')\n",
    "    if kwargs.get('type') == 'click':\n",
    "        Map.default_style = {'cursor': 'wait'}\n",
    "        xy = ee.Geometry.Point(latlon[::-1])\n",
    "        watershed = HUC10.filterBounds(xy)\n",
    "        huc10_id = watershed.first().get('huc10').getInfo()\n",
    "        Map.layers = Map.layers[:3]\n",
    "        Map.addLayer(ee.Image().paint(watershed, 0, 2), {'palette': 'red'}, 'HUC ID: ' + huc10_id) \n",
    "        \n",
    "        NAIP_images = findNAIP(watershed)\n",
    "        first_image = ee.Image(NAIP_images.toList(5).get(0))\n",
    "        Map.addLayer(first_image, {'bands': ['N', 'R', 'G']}, 'first image')\n",
    "#         count = NAIP_images.size().getInfo()\n",
    "#         for i in range(0, count):\n",
    "#             image = ee.Image(NAIP_images.toList(count).get(i))\n",
    "#             Map.addLayer(image, {'bands': ['N', 'R', 'G']}, str(i))\n",
    "        \n",
    "        Map.default_style = {'cursor': 'pointer'}\n",
    "\n",
    "Map.on_interaction(handle_interaction)\n",
    "\n",
    "Map"
   ]
  },
  {
   "cell_type": "code",
   "execution_count": 14,
   "metadata": {},
   "outputs": [
    {
     "data": {
      "text/plain": [
       "(TileLayer(base=True, max_zoom=19, min_zoom=1, options=['attribution', 'detect_retina', 'max_native_zoom', 'max_zoom', 'min_native_zoom', 'min_zoom', 'no_wrap', 'tile_size', 'tms']),\n",
       " TileLayer(attribution='Google', name='Google Map', options=['attribution', 'detect_retina', 'max_native_zoom', 'max_zoom', 'min_native_zoom', 'min_zoom', 'no_wrap', 'tile_size', 'tms'], url='https://mt1.google.com/vt/lyrs=m&x={x}&y={y}&z={z}'),\n",
       " TileLayer(attribution='Google Earth Engine', name='HUC-10 Watershed', options=['attribution', 'detect_retina', 'max_native_zoom', 'max_zoom', 'min_native_zoom', 'min_zoom', 'no_wrap', 'tile_size', 'tms'], url='https://earthengine.googleapis.com/v1alpha/projects/earthengine-legacy/maps/89353059c6daabea7bd36154c9f5596f-bc2a74a4deae70d0d71cf7a545c828ae/tiles/{z}/{x}/{y}'),\n",
       " TileLayer(attribution='Google Earth Engine', name='HUC ID: 0902010307', options=['attribution', 'detect_retina', 'max_native_zoom', 'max_zoom', 'min_native_zoom', 'min_zoom', 'no_wrap', 'tile_size', 'tms'], url='https://earthengine.googleapis.com/v1alpha/projects/earthengine-legacy/maps/c237b1b4f295047234edbd825307dc9c-f9e9154151ca6f898c48b26e784b7322/tiles/{z}/{x}/{y}'),\n",
       " TileLayer(attribution='Google Earth Engine', name='0', options=['attribution', 'detect_retina', 'max_native_zoom', 'max_zoom', 'min_native_zoom', 'min_zoom', 'no_wrap', 'tile_size', 'tms'], url='https://earthengine.googleapis.com/v1alpha/projects/earthengine-legacy/maps/35c01c946f922103493371faabc0ce01-b679863443c6f56f81106ad9aa15dfa4/tiles/{z}/{x}/{y}'),\n",
       " TileLayer(attribution='Google Earth Engine', name='1', options=['attribution', 'detect_retina', 'max_native_zoom', 'max_zoom', 'min_native_zoom', 'min_zoom', 'no_wrap', 'tile_size', 'tms'], url='https://earthengine.googleapis.com/v1alpha/projects/earthengine-legacy/maps/7b3eaf2a2bc6e0dd3d3f1bdceec1a010-3f64daa82e43d66d4fd061dcb45a53e2/tiles/{z}/{x}/{y}'),\n",
       " TileLayer(attribution='Google Earth Engine', name='2', options=['attribution', 'detect_retina', 'max_native_zoom', 'max_zoom', 'min_native_zoom', 'min_zoom', 'no_wrap', 'tile_size', 'tms'], url='https://earthengine.googleapis.com/v1alpha/projects/earthengine-legacy/maps/8612b1e94701c9e21b73a8add8f7cd85-5f5325b61042c803acc09f134adb087a/tiles/{z}/{x}/{y}'),\n",
       " TileLayer(attribution='Google Earth Engine', name='3', options=['attribution', 'detect_retina', 'max_native_zoom', 'max_zoom', 'min_native_zoom', 'min_zoom', 'no_wrap', 'tile_size', 'tms'], url='https://earthengine.googleapis.com/v1alpha/projects/earthengine-legacy/maps/6adfa210dfce1f1aaf0925d8ffac697b-77d1690046f646ddaad0d5a6bfd28b6c/tiles/{z}/{x}/{y}'))"
      ]
     },
     "execution_count": 14,
     "metadata": {},
     "output_type": "execute_result"
    }
   ],
   "source": [
    "Map.layers"
   ]
  },
  {
   "cell_type": "code",
   "execution_count": null,
   "metadata": {},
   "outputs": [],
   "source": []
  },
  {
   "cell_type": "code",
   "execution_count": null,
   "metadata": {},
   "outputs": [],
   "source": []
  }
 ],
 "metadata": {
  "kernelspec": {
   "display_name": "Python 3",
   "language": "python",
   "name": "python3"
  },
  "language_info": {
   "codemirror_mode": {
    "name": "ipython",
    "version": 3
   },
   "file_extension": ".py",
   "mimetype": "text/x-python",
   "name": "python",
   "nbconvert_exporter": "python",
   "pygments_lexer": "ipython3",
   "version": "3.8.2"
  }
 },
 "nbformat": 4,
 "nbformat_minor": 4
}
